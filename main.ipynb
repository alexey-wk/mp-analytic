{
 "cells": [
  {
   "cell_type": "code",
   "execution_count": 18,
   "metadata": {},
   "outputs": [
    {
     "name": "stdout",
     "output_type": "stream",
     "text": [
      "The autoreload extension is already loaded. To reload it, use:\n",
      "  %reload_ext autoreload\n"
     ]
    }
   ],
   "source": [
    "%load_ext autoreload\n",
    "%autoreload 2"
   ]
  },
  {
   "cell_type": "code",
   "execution_count": 2,
   "metadata": {},
   "outputs": [
    {
     "data": {
      "text/plain": [
       "[datetime.datetime(2025, 3, 1, 0, 0),\n",
       " datetime.datetime(2025, 3, 2, 0, 0),\n",
       " datetime.datetime(2025, 3, 3, 0, 0),\n",
       " datetime.datetime(2025, 3, 4, 0, 0),\n",
       " datetime.datetime(2025, 3, 5, 0, 0),\n",
       " datetime.datetime(2025, 3, 6, 0, 0),\n",
       " datetime.datetime(2025, 3, 7, 0, 0),\n",
       " datetime.datetime(2025, 3, 8, 0, 0),\n",
       " datetime.datetime(2025, 3, 9, 0, 0),\n",
       " datetime.datetime(2025, 3, 10, 0, 0),\n",
       " datetime.datetime(2025, 3, 11, 0, 0)]"
      ]
     },
     "execution_count": 2,
     "metadata": {},
     "output_type": "execute_result"
    }
   ],
   "source": [
    "from datetime import datetime\n",
    "from app.data_filler import fill_sheet_column\n",
    "from app.date_formatter import DateFormatter\n",
    "\n",
    "from_date = datetime(2025, 3, 1)\n",
    "to_date = datetime(2025, 3, 11)\n",
    "SPREADSHEET_NAME = \"rnp-experiment\"\n",
    "WORKSHEET_NAME = \"task\"\n",
    "\n",
    "report_dates = DateFormatter.generate_date_range(from_date, to_date)\n",
    "report_dates\n",
    "for report_date in report_dates:\n",
    "    fill_sheet_column(SPREADSHEET_NAME, WORKSHEET_NAME, report_date)"
   ]
  }
 ],
 "metadata": {
  "kernelspec": {
   "display_name": "venv",
   "language": "python",
   "name": "python3"
  },
  "language_info": {
   "codemirror_mode": {
    "name": "ipython",
    "version": 3
   },
   "file_extension": ".py",
   "mimetype": "text/x-python",
   "name": "python",
   "nbconvert_exporter": "python",
   "pygments_lexer": "ipython3",
   "version": "3.12.2"
  }
 },
 "nbformat": 4,
 "nbformat_minor": 2
}
