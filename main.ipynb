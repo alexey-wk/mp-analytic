{
 "cells": [
  {
   "cell_type": "code",
   "execution_count": 22,
   "metadata": {},
   "outputs": [
    {
     "name": "stdout",
     "output_type": "stream",
     "text": [
      "The autoreload extension is already loaded. To reload it, use:\n",
      "  %reload_ext autoreload\n"
     ]
    }
   ],
   "source": [
    "%load_ext autoreload\n",
    "%autoreload 2"
   ]
  },
  {
   "cell_type": "code",
   "execution_count": 3,
   "metadata": {},
   "outputs": [],
   "source": [
    "import os\n",
    "import datetime\n",
    "import logging\n",
    "from app.date_formatter import DateFormatter\n",
    "from app.client.wb import WBClient\n",
    "from app.client.google_sheets import GoogleSheetsClient\n",
    "from app.extractors.advert import AdvertFormatter\n",
    "from app.extractors.card import CardFormatter\n",
    "from app.extractors.finreport import FinReportFormatter\n",
    "from app.stat_aggregator import StatAggregator\n",
    "from app.report_constructor.report_fields import TAG_TO_FIELD_NAME\n",
    "from app.report_constructor.report_constructor import ReportConstructor\n",
    "from dotenv import load_dotenv\n",
    "load_dotenv()\n",
    "\n",
    "API_TOKEN = os.getenv(\"API_TOKEN\")\n",
    "AUTH_COOKIES = {\n",
    "    'wbx-validation-key': os.getenv('WBX_VALIDATION_KEY'),\n",
    "    'x-supplier-id-external': os.getenv('X_SUPPLIER_ID_EXTERNAL'),\n",
    "    'WBTokenV3': os.getenv('WB_TOKEN_V3'),\n",
    "}\n",
    "\n",
    "logging.basicConfig(\n",
    "    level=logging.INFO,\n",
    "    format='%(asctime)s - %(name)s - %(levelname)s - %(message)s',\n",
    "    force=True \n",
    ")\n",
    "\n",
    "# Дату отчета, название документа и листа в нем\n",
    "REPORT_DATE = datetime.datetime(2025, 3, 20)\n",
    "SPREADSHEET_NAME = \"rnp-experiment\"\n",
    "WORKSHEET_NAME = \"Сумка\"\n",
    "\n",
    "wb_client = WBClient(AUTH_COOKIES, API_TOKEN)\n",
    "gs_client = GoogleSheetsClient()\n",
    "advFormatter = AdvertFormatter()\n",
    "cardFormatter = CardFormatter()\n",
    "finrepFormatter = FinReportFormatter()\n",
    "statAggregator = StatAggregator()\n",
    "reportConstructor = ReportConstructor()"
   ]
  },
  {
   "cell_type": "code",
   "execution_count": 4,
   "metadata": {},
   "outputs": [],
   "source": [
    "# Получение выбранного листа таблицы и nm_id\n",
    "worksheet = gs_client.get_worksheet(SPREADSHEET_NAME, WORKSHEET_NAME)\n",
    "worksheet_rows = worksheet.get_all_values()\n",
    "\n",
    "nm_id = reportConstructor.get_nm_id(worksheet_rows)"
   ]
  },
  {
   "cell_type": "code",
   "execution_count": 5,
   "metadata": {},
   "outputs": [],
   "source": [
    "# 1. nm_id всех карточек продавца\n",
    "cards = wb_client.get_cards()\n",
    "\n",
    "nm_ids = advFormatter.extract_nm_ids_from_cards(cards)"
   ]
  },
  {
   "cell_type": "code",
   "execution_count": 9,
   "metadata": {},
   "outputs": [
    {
     "data": {
      "text/plain": [
       "{329981603: {'adv_views': 1606,\n",
       "  'adv_clicks': 43,\n",
       "  'adv_atbs': 4,\n",
       "  'adv_orders': 0,\n",
       "  'adv_shks': 0,\n",
       "  'adv_sum': 409.53999999999996,\n",
       "  'adv_sum_price': 0},\n",
       " 330495556: {'adv_views': 446,\n",
       "  'adv_clicks': 4,\n",
       "  'adv_atbs': 0,\n",
       "  'adv_orders': 0,\n",
       "  'adv_shks': 0,\n",
       "  'adv_sum': 113.72999999999999,\n",
       "  'adv_sum_price': 0}}"
      ]
     },
     "execution_count": 9,
     "metadata": {},
     "output_type": "execute_result"
    }
   ],
   "source": [
    "# 2. Внутренний трафик по nm_id\n",
    "adv_auto, adv_auction = wb_client.get_adverts()\n",
    "\n",
    "adv_nms = advFormatter.group_nm_ids_by_adverts(adv_auto, adv_auction)\n",
    "adv_ids = list(adv_nms.keys())\n",
    "adv_stat = wb_client.get_adverts_stats(adv_ids, REPORT_DATE)\n",
    "\n",
    "nm_adv_stats = advFormatter.extract_nm_stats_from_advs(adv_stat)\n",
    "nm_adv_stats"
   ]
  },
  {
   "cell_type": "code",
   "execution_count": 7,
   "metadata": {},
   "outputs": [],
   "source": [
    "# 3. Общий трафик (карточки), остатки и выкупы по nm_id\n",
    "cards_stats = wb_client.get_cards_stats(nm_ids, REPORT_DATE)\n",
    "\n",
    "nm_card_stats = cardFormatter.extract_nm_stats_from_cards(cards_stats)"
   ]
  },
  {
   "cell_type": "code",
   "execution_count": 8,
   "metadata": {},
   "outputs": [],
   "source": [
    "# 4. Расходы внутри маркетплейса по nm_id\n",
    "finreps = wb_client.get_finreports(REPORT_DATE)\n",
    "finrep_ids = finrepFormatter.extract_finreport_ids(finreps)\n",
    "\n",
    "finrep_records = []\n",
    "for id in finrep_ids:\n",
    "    finrep_stat = wb_client.get_finreport_stat_records(id)\n",
    "    finrep_records.extend(finrep_stat)\n",
    "\n",
    "nm_finrep_stats = finrepFormatter.extract_nm_stats_from_finrep_records(finrep_records)"
   ]
  },
  {
   "cell_type": "code",
   "execution_count": 64,
   "metadata": {},
   "outputs": [],
   "source": [
    "# 5. Объединение всех данных по nm_id в финальный отчет\n",
    "combined_stats = statAggregator.combine_stats(nm_adv_stats, nm_card_stats, nm_finrep_stats)\n",
    "\n",
    "reports = reportConstructor.generate_rnp_source(combined_stats)\n",
    "\n",
    "# report = reportConstructor.generate_stats_source_report(combined_stats)\n",
    "# gs_client.update_sheet(report, \"test_sheet\", \"отчет 2\")"
   ]
  },
  {
   "cell_type": "code",
   "execution_count": 65,
   "metadata": {},
   "outputs": [],
   "source": [
    "report_dot_date = DateFormatter.get_dot_report_date(REPORT_DATE)\n",
    "tag_row_idxs = reportConstructor.find_tags_row_idxs(worksheet_rows)\n",
    "date_col_idx = reportConstructor.find_date_col_idx(worksheet_rows, report_dot_date)\n",
    "nm_report = reports[nm_id]\n",
    "\n",
    "for row_tag, row_idx in tag_row_idxs:\n",
    "    if row_tag not in TAG_TO_FIELD_NAME:\n",
    "        continue\n",
    "    \n",
    "    field_name = TAG_TO_FIELD_NAME[row_tag]\n",
    "    if field_name in nm_report.index:\n",
    "        cell_coords = reportConstructor.get_cell_coords(row_idx, date_col_idx)\n",
    "        cell_value = reportConstructor.get_cell_value(nm_report, field_name, row_tag)\n",
    "        worksheet.update_cell(*cell_coords, cell_value)"
   ]
  }
 ],
 "metadata": {
  "kernelspec": {
   "display_name": "venv",
   "language": "python",
   "name": "python3"
  },
  "language_info": {
   "codemirror_mode": {
    "name": "ipython",
    "version": 3
   },
   "file_extension": ".py",
   "mimetype": "text/x-python",
   "name": "python",
   "nbconvert_exporter": "python",
   "pygments_lexer": "ipython3",
   "version": "3.12.2"
  }
 },
 "nbformat": 4,
 "nbformat_minor": 2
}
