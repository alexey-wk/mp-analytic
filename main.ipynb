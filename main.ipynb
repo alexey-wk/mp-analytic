{
 "cells": [
  {
   "cell_type": "code",
   "execution_count": 8,
   "metadata": {},
   "outputs": [
    {
     "name": "stdout",
     "output_type": "stream",
     "text": [
      "The autoreload extension is already loaded. To reload it, use:\n",
      "  %reload_ext autoreload\n"
     ]
    }
   ],
   "source": [
    "%load_ext autoreload\n",
    "%autoreload 2"
   ]
  },
  {
   "cell_type": "code",
   "execution_count": 1,
   "metadata": {},
   "outputs": [
    {
     "name": "stdout",
     "output_type": "stream",
     "text": [
      "[{'interval': {'begin': '2025-03-24', 'end': '2025-03-24'}, 'views': 20, 'clicks': 1, 'ctr': 5, 'cpc': 5.11, 'sum': 5.11, 'atbs': 0, 'orders': 0, 'cr': 0, 'shks': 0, 'sum_price': 0, 'days': [{'date': '2025-03-24T03:00:00+03:00', 'views': 20, 'clicks': 1, 'ctr': 0.01, 'cpc': 5.11, 'sum': 5.11, 'atbs': 0, 'orders': 0, 'cr': 0, 'shks': 0, 'sum_price': 0, 'apps': [{'views': 3, 'clicks': 0, 'ctr': 0, 'cpc': 0, 'sum': 0.77, 'atbs': 0, 'orders': 0, 'cr': 0, 'shks': 0, 'sum_price': 0, 'nm': [{'views': 3, 'clicks': 0, 'ctr': 0, 'cpc': 0, 'sum': 0.77, 'atbs': 0, 'orders': 0, 'cr': 0, 'shks': 0, 'sum_price': 0, 'name': '', 'nmId': 329981603}], 'appType': 1}, {'views': 8, 'clicks': 1, 'ctr': 12.5, 'cpc': 2.04, 'sum': 2.04, 'atbs': 0, 'orders': 0, 'cr': 0, 'shks': 0, 'sum_price': 0, 'nm': [{'views': 8, 'clicks': 1, 'ctr': 12.5, 'cpc': 2.04, 'sum': 2.04, 'atbs': 0, 'orders': 0, 'cr': 0, 'shks': 0, 'sum_price': 0, 'name': '', 'nmId': 329981603}], 'appType': 32}, {'views': 9, 'clicks': 0, 'ctr': 0, 'cpc': 0, 'sum': 0, 'atbs': 0, 'orders': 0, 'cr': 0, 'shks': 0, 'sum_price': 0, 'nm': [{'views': 9, 'clicks': 0, 'ctr': 0, 'cpc': 0, 'sum': 2.3, 'atbs': 0, 'orders': 0, 'cr': 0, 'shks': 0, 'sum_price': 0, 'name': '', 'nmId': 329981603}], 'appType': 64}]}], 'advertId': 23966043}, {'interval': {'begin': '2025-03-24', 'end': '2025-03-24'}, 'views': 473, 'clicks': 5, 'ctr': 1.06, 'cpc': 24.12, 'sum': 120.62, 'atbs': 0, 'orders': 0, 'cr': 0, 'shks': 0, 'sum_price': 0, 'days': [{'date': '2025-03-24T03:00:00+03:00', 'views': 473, 'clicks': 5, 'ctr': 0, 'cpc': 24.12, 'sum': 120.62, 'atbs': 0, 'orders': 0, 'cr': 0, 'shks': 0, 'sum_price': 0, 'apps': [{'views': 73, 'clicks': 0, 'ctr': 0, 'cpc': 0, 'sum': 18.61, 'atbs': 0, 'orders': 0, 'cr': 0, 'shks': 0, 'sum_price': 0, 'nm': [{'views': 73, 'clicks': 0, 'ctr': 0, 'cpc': 0, 'sum': 18.61, 'atbs': 0, 'orders': 0, 'cr': 0, 'shks': 0, 'sum_price': 0, 'name': '', 'nmId': 330495556}], 'appType': 1}, {'views': 187, 'clicks': 2, 'ctr': 1.07, 'cpc': 23.85, 'sum': 47.69, 'atbs': 0, 'orders': 0, 'cr': 0, 'shks': 0, 'sum_price': 0, 'nm': [{'views': 187, 'clicks': 2, 'ctr': 1.07, 'cpc': 23.85, 'sum': 47.69, 'atbs': 0, 'orders': 0, 'cr': 0, 'shks': 0, 'sum_price': 0, 'name': '', 'nmId': 330495556}], 'appType': 32}, {'views': 213, 'clicks': 3, 'ctr': 1.41, 'cpc': 0.02, 'sum': 0.05, 'atbs': 0, 'orders': 0, 'cr': 0, 'shks': 0, 'sum_price': 0, 'nm': [{'views': 213, 'clicks': 3, 'ctr': 1.41, 'cpc': 18.11, 'sum': 54.32, 'atbs': 0, 'orders': 0, 'cr': 0, 'shks': 0, 'sum_price': 0, 'name': '', 'nmId': 330495556}], 'appType': 64}]}], 'advertId': 24036222}]\n",
      "get_cards_record call 2025-04-05 00:35:31.726098\n",
      "[{'interval': {'begin': '2025-03-25', 'end': '2025-03-25'}, 'views': 341, 'clicks': 14, 'ctr': 4.11, 'cpc': 6.21, 'sum': 86.97, 'atbs': 0, 'orders': 0, 'cr': 0, 'shks': 0, 'sum_price': 0, 'days': [{'date': '2025-03-25T03:00:00+03:00', 'views': 341, 'clicks': 14, 'ctr': 0, 'cpc': 6.21, 'sum': 86.97, 'atbs': 0, 'orders': 0, 'cr': 0, 'shks': 0, 'sum_price': 0, 'apps': [{'views': 29, 'clicks': 0, 'ctr': 0, 'cpc': 0, 'sum': 7.4, 'atbs': 0, 'orders': 0, 'cr': 0, 'shks': 0, 'sum_price': 0, 'nm': [{'views': 29, 'clicks': 0, 'ctr': 0, 'cpc': 0, 'sum': 7.4, 'atbs': 0, 'orders': 0, 'cr': 0, 'shks': 0, 'sum_price': 0, 'name': '', 'nmId': 329981603}], 'appType': 1}, {'views': 115, 'clicks': 3, 'ctr': 2.61, 'cpc': 9.78, 'sum': 29.33, 'atbs': 0, 'orders': 0, 'cr': 0, 'shks': 0, 'sum_price': 0, 'nm': [{'views': 115, 'clicks': 3, 'ctr': 2.61, 'cpc': 9.78, 'sum': 29.33, 'atbs': 0, 'orders': 0, 'cr': 0, 'shks': 0, 'sum_price': 0, 'name': '', 'nmId': 329981603}], 'appType': 32}, {'views': 197, 'clicks': 11, 'ctr': 5.58, 'cpc': 0, 'sum': 0.05, 'atbs': 0, 'orders': 0, 'cr': 0, 'shks': 0, 'sum_price': 0, 'nm': [{'views': 197, 'clicks': 11, 'ctr': 5.58, 'cpc': 4.57, 'sum': 50.24, 'atbs': 0, 'orders': 0, 'cr': 0, 'shks': 0, 'sum_price': 0, 'name': '', 'nmId': 329981603}], 'appType': 64}]}], 'advertId': 23966043}, {'interval': {'begin': '2025-03-25', 'end': '2025-03-25'}, 'views': 477, 'clicks': 3, 'ctr': 0.63, 'cpc': 40.55, 'sum': 121.64, 'atbs': 1, 'orders': 0, 'cr': 0, 'shks': 0, 'sum_price': 0, 'days': [{'date': '2025-03-25T03:00:00+03:00', 'views': 477, 'clicks': 3, 'ctr': 0, 'cpc': 40.55, 'sum': 121.64, 'atbs': 1, 'orders': 0, 'cr': 0, 'shks': 0, 'sum_price': 0, 'apps': [{'views': 55, 'clicks': 0, 'ctr': 0, 'cpc': 0, 'sum': 14.03, 'atbs': 0, 'orders': 0, 'cr': 0, 'shks': 0, 'sum_price': 0, 'nm': [{'views': 55, 'clicks': 0, 'ctr': 0, 'cpc': 0, 'sum': 14.03, 'atbs': 0, 'orders': 0, 'cr': 0, 'shks': 0, 'sum_price': 0, 'name': '', 'nmId': 330495556}], 'appType': 1}, {'views': 227, 'clicks': 1, 'ctr': 0.44, 'cpc': 57.89, 'sum': 57.89, 'atbs': 0, 'orders': 0, 'cr': 0, 'shks': 0, 'sum_price': 0, 'nm': [{'views': 227, 'clicks': 1, 'ctr': 0.44, 'cpc': 57.89, 'sum': 57.89, 'atbs': 0, 'orders': 0, 'cr': 0, 'shks': 0, 'sum_price': 0, 'name': '', 'nmId': 330495556}], 'appType': 32}, {'views': 195, 'clicks': 2, 'ctr': 1.03, 'cpc': 0.02, 'sum': 0.05, 'atbs': 1, 'orders': 0, 'cr': 0, 'shks': 0, 'sum_price': 0, 'nm': [{'views': 195, 'clicks': 2, 'ctr': 1.03, 'cpc': 24.86, 'sum': 49.73, 'atbs': 1, 'orders': 0, 'cr': 0, 'shks': 0, 'sum_price': 0, 'name': '', 'nmId': 330495556}], 'appType': 64}]}], 'advertId': 24036222}]\n",
      "get_cards_record call 2025-04-05 00:35:38.033509\n",
      "[{'interval': {'begin': '2025-03-26', 'end': '2025-03-26'}, 'views': 1993, 'clicks': 60, 'ctr': 3.01, 'cpc': 8.47, 'sum': 508.22, 'atbs': 6, 'orders': 1, 'cr': 1.67, 'shks': 1, 'sum_price': 2629, 'days': [{'date': '2025-03-26T03:00:00+03:00', 'views': 1993, 'clicks': 60, 'ctr': 0, 'cpc': 8.47, 'sum': 508.22, 'atbs': 6, 'orders': 1, 'cr': 1.67, 'shks': 1, 'sum_price': 2629, 'apps': [{'views': 234, 'clicks': 1, 'ctr': 0.43, 'cpc': 59.67, 'sum': 59.67, 'atbs': 0, 'orders': 0, 'cr': 0, 'shks': 0, 'sum_price': 0, 'nm': [{'views': 234, 'clicks': 1, 'ctr': 0.43, 'cpc': 59.67, 'sum': 59.67, 'atbs': 0, 'orders': 0, 'cr': 0, 'shks': 0, 'sum_price': 0, 'name': '', 'nmId': 329981603}], 'appType': 1}, {'views': 743, 'clicks': 19, 'ctr': 2.56, 'cpc': 9.97, 'sum': 189.47, 'atbs': 2, 'orders': 0, 'cr': 0, 'shks': 0, 'sum_price': 0, 'nm': [{'views': 743, 'clicks': 19, 'ctr': 2.56, 'cpc': 9.97, 'sum': 189.47, 'atbs': 2, 'orders': 0, 'cr': 0, 'shks': 0, 'sum_price': 0, 'name': '', 'nmId': 329981603}], 'appType': 32}, {'views': 1016, 'clicks': 40, 'ctr': 3.94, 'cpc': 0.01, 'sum': 0.26, 'atbs': 4, 'orders': 1, 'cr': 2.5, 'shks': 1, 'sum_price': 2629, 'nm': [{'views': 1016, 'clicks': 40, 'ctr': 3.94, 'cpc': 6.48, 'sum': 259.08, 'atbs': 4, 'orders': 1, 'cr': 2.5, 'shks': 1, 'sum_price': 2629, 'name': '', 'nmId': 329981603}], 'appType': 64}]}], 'advertId': 23966043}, {'interval': {'begin': '2025-03-26', 'end': '2025-03-26'}, 'views': 523, 'clicks': 4, 'ctr': 0.76, 'cpc': 33.34, 'sum': 133.37, 'atbs': 0, 'orders': 0, 'cr': 0, 'shks': 0, 'sum_price': 0, 'days': [{'date': '2025-03-26T03:00:00+03:00', 'views': 523, 'clicks': 4, 'ctr': 0, 'cpc': 33.34, 'sum': 133.37, 'atbs': 0, 'orders': 0, 'cr': 0, 'shks': 0, 'sum_price': 0, 'apps': [{'views': 72, 'clicks': 1, 'ctr': 1.39, 'cpc': 18.36, 'sum': 18.36, 'atbs': 0, 'orders': 0, 'cr': 0, 'shks': 0, 'sum_price': 0, 'nm': [{'views': 72, 'clicks': 1, 'ctr': 1.39, 'cpc': 18.36, 'sum': 18.36, 'atbs': 0, 'orders': 0, 'cr': 0, 'shks': 0, 'sum_price': 0, 'name': '', 'nmId': 330495556}], 'appType': 1}, {'views': 235, 'clicks': 1, 'ctr': 0.43, 'cpc': 59.93, 'sum': 59.93, 'atbs': 0, 'orders': 0, 'cr': 0, 'shks': 0, 'sum_price': 0, 'nm': [{'views': 235, 'clicks': 1, 'ctr': 0.43, 'cpc': 59.93, 'sum': 59.93, 'atbs': 0, 'orders': 0, 'cr': 0, 'shks': 0, 'sum_price': 0, 'name': '', 'nmId': 330495556}], 'appType': 32}, {'views': 216, 'clicks': 2, 'ctr': 0.93, 'cpc': 0.03, 'sum': 0.06, 'atbs': 0, 'orders': 0, 'cr': 0, 'shks': 0, 'sum_price': 0, 'nm': [{'views': 216, 'clicks': 2, 'ctr': 0.93, 'cpc': 27.54, 'sum': 55.08, 'atbs': 0, 'orders': 0, 'cr': 0, 'shks': 0, 'sum_price': 0, 'name': '', 'nmId': 330495556}], 'appType': 64}]}], 'advertId': 24036222}]\n",
      "get_cards_record call 2025-04-05 00:36:31.820053\n"
     ]
    }
   ],
   "source": [
    "from datetime import datetime\n",
    "from app.data_filler import DataFiller\n",
    "from app.date_formatter import DateFormatter\n",
    "\n",
    "from_date = datetime(2025, 3, 24)\n",
    "to_date = datetime(2025, 3, 26)\n",
    "SPREADSHEET_NAME = \"rnp-experiment\"\n",
    "WORKSHEET_NAME = \"task\"\n",
    "\n",
    "report_dates = DateFormatter.generate_date_range(from_date, to_date)\n",
    "data_filler = DataFiller()\n",
    "\n",
    "for report_date in report_dates:\n",
    "    data_filler.fill_sheet_column(SPREADSHEET_NAME, WORKSHEET_NAME, report_date)"
   ]
  },
  {
   "cell_type": "code",
   "execution_count": 3,
   "metadata": {},
   "outputs": [
    {
     "name": "stdout",
     "output_type": "stream",
     "text": [
      "get_cards_record call 2025-04-04 21:58:53.928964\n",
      "get_cards_record call 2025-04-04 21:59:52.784243\n",
      "get_cards_record call 2025-04-04 21:59:53.930894\n",
      "get_cards_record call 2025-04-04 22:00:52.784426\n"
     ]
    }
   ],
   "source": [
    "import os\n",
    "from datetime import datetime\n",
    "from app.client.wb import WBClient\n",
    "\n",
    "API_TOKEN = os.getenv(\"API_TOKEN\")\n",
    "AUTH_COOKIES = {\n",
    "    'wbx-validation-key': os.getenv('WBX_VALIDATION_KEY'),\n",
    "    'x-supplier-id-external': os.getenv('X_SUPPLIER_ID_EXTERNAL'),\n",
    "    'WBTokenV3': os.getenv('WB_TOKEN_V3'),\n",
    "}\n",
    "\n",
    "wb_client = WBClient(AUTH_COOKIES, API_TOKEN)\n",
    "\n",
    "to_date = datetime(2025, 3, 18)\n",
    "\n",
    "for i in range(4):\n",
    "    wb_client.get_cards_stats([246912301], to_date)"
   ]
  }
 ],
 "metadata": {
  "kernelspec": {
   "display_name": "venv",
   "language": "python",
   "name": "python3"
  },
  "language_info": {
   "codemirror_mode": {
    "name": "ipython",
    "version": 3
   },
   "file_extension": ".py",
   "mimetype": "text/x-python",
   "name": "python",
   "nbconvert_exporter": "python",
   "pygments_lexer": "ipython3",
   "version": "3.12.2"
  }
 },
 "nbformat": 4,
 "nbformat_minor": 2
}
