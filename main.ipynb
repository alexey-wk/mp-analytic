{
 "cells": [
  {
   "cell_type": "code",
   "execution_count": 8,
   "metadata": {},
   "outputs": [
    {
     "name": "stdout",
     "output_type": "stream",
     "text": [
      "The autoreload extension is already loaded. To reload it, use:\n",
      "  %reload_ext autoreload\n"
     ]
    }
   ],
   "source": [
    "%load_ext autoreload\n",
    "%autoreload 2"
   ]
  },
  {
   "cell_type": "code",
   "execution_count": null,
   "metadata": {},
   "outputs": [
    {
     "ename": "TypeError",
     "evalue": "strptime() argument 1 must be str, not datetime.datetime",
     "output_type": "error",
     "traceback": [
      "\u001b[31m---------------------------------------------------------------------------\u001b[39m",
      "\u001b[31mTypeError\u001b[39m                                 Traceback (most recent call last)",
      "\u001b[36mCell\u001b[39m\u001b[36m \u001b[39m\u001b[32mIn[1]\u001b[39m\u001b[32m, line 10\u001b[39m\n\u001b[32m      7\u001b[39m SPREADSHEET_NAME = \u001b[33m\"\u001b[39m\u001b[33mrnp-experiment\u001b[39m\u001b[33m\"\u001b[39m\n\u001b[32m      8\u001b[39m WORKSHEET_NAME = \u001b[33m\"\u001b[39m\u001b[33mtask\u001b[39m\u001b[33m\"\u001b[39m\n\u001b[32m---> \u001b[39m\u001b[32m10\u001b[39m report_dates = \u001b[43mDateFormatter\u001b[49m\u001b[43m.\u001b[49m\u001b[43mgenerate_date_range\u001b[49m\u001b[43m(\u001b[49m\u001b[43mfrom_date\u001b[49m\u001b[43m,\u001b[49m\u001b[43m \u001b[49m\u001b[43mto_date\u001b[49m\u001b[43m)\u001b[49m\n\u001b[32m     11\u001b[39m table_filler = TableFiller()\n\u001b[32m     13\u001b[39m \u001b[38;5;28;01mfor\u001b[39;00m report_date \u001b[38;5;129;01min\u001b[39;00m report_dates:\n",
      "\u001b[36mFile \u001b[39m\u001b[32m~/Desktop/Comparator/marketplace-analysis/mp-analytic/app/date_formatter.py:14\u001b[39m, in \u001b[36mDateFormatter.generate_date_range\u001b[39m\u001b[34m(from_date_src, to_date_src)\u001b[39m\n\u001b[32m     12\u001b[39m \u001b[38;5;129m@staticmethod\u001b[39m\n\u001b[32m     13\u001b[39m \u001b[38;5;28;01mdef\u001b[39;00m\u001b[38;5;250m \u001b[39m\u001b[34mgenerate_date_range\u001b[39m(from_date_src: \u001b[38;5;28mstr\u001b[39m, to_date_src: \u001b[38;5;28mstr\u001b[39m) -> \u001b[38;5;28mlist\u001b[39m[datetime]:\n\u001b[32m---> \u001b[39m\u001b[32m14\u001b[39m     from_date = \u001b[43mdatetime\u001b[49m\u001b[43m.\u001b[49m\u001b[43mstrptime\u001b[49m\u001b[43m(\u001b[49m\u001b[43mfrom_date_src\u001b[49m\u001b[43m,\u001b[49m\u001b[43m \u001b[49m\u001b[33;43m'\u001b[39;49m\u001b[38;5;132;43;01m%d\u001b[39;49;00m\u001b[33;43m.\u001b[39;49m\u001b[33;43m%\u001b[39;49m\u001b[33;43mm.\u001b[39;49m\u001b[33;43m%\u001b[39;49m\u001b[33;43mY\u001b[39;49m\u001b[33;43m'\u001b[39;49m\u001b[43m)\u001b[49m\n\u001b[32m     15\u001b[39m     to_date = datetime.strptime(to_date_src, \u001b[33m'\u001b[39m\u001b[38;5;132;01m%d\u001b[39;00m\u001b[33m.\u001b[39m\u001b[33m%\u001b[39m\u001b[33mm.\u001b[39m\u001b[33m%\u001b[39m\u001b[33mY\u001b[39m\u001b[33m'\u001b[39m)\n\u001b[32m     16\u001b[39m     curr_date = datetime.now()\n",
      "\u001b[31mTypeError\u001b[39m: strptime() argument 1 must be str, not datetime.datetime"
     ]
    }
   ],
   "source": [
    "from datetime import datetime\n",
    "from app.table_filler import TableFiller\n",
    "from app.date_formatter import DateFormatter\n",
    "\n",
    "from_date = datetime(2025, 3, 1)\n",
    "to_date = datetime(2025, 3, 26)\n",
    "SPREADSHEET_NAME = \"rnp-experiment\"\n",
    "WORKSHEET_NAME = \"task\"\n",
    "\n",
    "report_dates = DateFormatter.generate_date_range(from_date, to_date)\n",
    "table_filler = TableFiller()\n",
    "\n",
    "for report_date in report_dates:\n",
    "    table_filler.fill_sheet_column(SPREADSHEET_NAME, WORKSHEET_NAME, report_date)"
   ]
  }
 ],
 "metadata": {
  "kernelspec": {
   "display_name": "venv",
   "language": "python",
   "name": "python3"
  },
  "language_info": {
   "codemirror_mode": {
    "name": "ipython",
    "version": 3
   },
   "file_extension": ".py",
   "mimetype": "text/x-python",
   "name": "python",
   "nbconvert_exporter": "python",
   "pygments_lexer": "ipython3",
   "version": "3.12.2"
  }
 },
 "nbformat": 4,
 "nbformat_minor": 2
}
